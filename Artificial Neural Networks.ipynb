{
 "cells": [
  {
   "cell_type": "code",
   "execution_count": 1,
   "metadata": {
    "collapsed": true
   },
   "outputs": [],
   "source": [
    "# Artificial Neural Network\n",
    "\n",
    "# Installing Theano\n",
    "# pip install --upgrade --no-deps git+git://github.com/Theano/Theano.git\n",
    "\n",
    "# Installing Tensorflow\n",
    "# Install Tensorflow from the website: https://www.tensorflow.org/versions/r0.12/get_started/os_setup.html\n",
    "\n",
    "# Installing Keras\n",
    "# pip install --upgrade keras"
   ]
  },
  {
   "cell_type": "code",
   "execution_count": 2,
   "metadata": {
    "collapsed": true
   },
   "outputs": [],
   "source": [
    "import pandas as pd\n",
    "import numpy as np\n",
    "import matplotlib.pyplot as plt"
   ]
  },
  {
   "cell_type": "code",
   "execution_count": 3,
   "metadata": {},
   "outputs": [
    {
     "data": {
      "text/html": [
       "<div>\n",
       "<style>\n",
       "    .dataframe thead tr:only-child th {\n",
       "        text-align: right;\n",
       "    }\n",
       "\n",
       "    .dataframe thead th {\n",
       "        text-align: left;\n",
       "    }\n",
       "\n",
       "    .dataframe tbody tr th {\n",
       "        vertical-align: top;\n",
       "    }\n",
       "</style>\n",
       "<table border=\"1\" class=\"dataframe\">\n",
       "  <thead>\n",
       "    <tr style=\"text-align: right;\">\n",
       "      <th></th>\n",
       "      <th>RowNumber</th>\n",
       "      <th>CustomerId</th>\n",
       "      <th>Surname</th>\n",
       "      <th>CreditScore</th>\n",
       "      <th>Geography</th>\n",
       "      <th>Gender</th>\n",
       "      <th>Age</th>\n",
       "      <th>Tenure</th>\n",
       "      <th>Balance</th>\n",
       "      <th>NumOfProducts</th>\n",
       "      <th>HasCrCard</th>\n",
       "      <th>IsActiveMember</th>\n",
       "      <th>EstimatedSalary</th>\n",
       "      <th>Exited</th>\n",
       "    </tr>\n",
       "  </thead>\n",
       "  <tbody>\n",
       "    <tr>\n",
       "      <th>0</th>\n",
       "      <td>1</td>\n",
       "      <td>15634602</td>\n",
       "      <td>Hargrave</td>\n",
       "      <td>619</td>\n",
       "      <td>France</td>\n",
       "      <td>Female</td>\n",
       "      <td>42</td>\n",
       "      <td>2</td>\n",
       "      <td>0.00</td>\n",
       "      <td>1</td>\n",
       "      <td>1</td>\n",
       "      <td>1</td>\n",
       "      <td>101348.88</td>\n",
       "      <td>1</td>\n",
       "    </tr>\n",
       "    <tr>\n",
       "      <th>1</th>\n",
       "      <td>2</td>\n",
       "      <td>15647311</td>\n",
       "      <td>Hill</td>\n",
       "      <td>608</td>\n",
       "      <td>Spain</td>\n",
       "      <td>Female</td>\n",
       "      <td>41</td>\n",
       "      <td>1</td>\n",
       "      <td>83807.86</td>\n",
       "      <td>1</td>\n",
       "      <td>0</td>\n",
       "      <td>1</td>\n",
       "      <td>112542.58</td>\n",
       "      <td>0</td>\n",
       "    </tr>\n",
       "    <tr>\n",
       "      <th>2</th>\n",
       "      <td>3</td>\n",
       "      <td>15619304</td>\n",
       "      <td>Onio</td>\n",
       "      <td>502</td>\n",
       "      <td>France</td>\n",
       "      <td>Female</td>\n",
       "      <td>42</td>\n",
       "      <td>8</td>\n",
       "      <td>159660.80</td>\n",
       "      <td>3</td>\n",
       "      <td>1</td>\n",
       "      <td>0</td>\n",
       "      <td>113931.57</td>\n",
       "      <td>1</td>\n",
       "    </tr>\n",
       "    <tr>\n",
       "      <th>3</th>\n",
       "      <td>4</td>\n",
       "      <td>15701354</td>\n",
       "      <td>Boni</td>\n",
       "      <td>699</td>\n",
       "      <td>France</td>\n",
       "      <td>Female</td>\n",
       "      <td>39</td>\n",
       "      <td>1</td>\n",
       "      <td>0.00</td>\n",
       "      <td>2</td>\n",
       "      <td>0</td>\n",
       "      <td>0</td>\n",
       "      <td>93826.63</td>\n",
       "      <td>0</td>\n",
       "    </tr>\n",
       "    <tr>\n",
       "      <th>4</th>\n",
       "      <td>5</td>\n",
       "      <td>15737888</td>\n",
       "      <td>Mitchell</td>\n",
       "      <td>850</td>\n",
       "      <td>Spain</td>\n",
       "      <td>Female</td>\n",
       "      <td>43</td>\n",
       "      <td>2</td>\n",
       "      <td>125510.82</td>\n",
       "      <td>1</td>\n",
       "      <td>1</td>\n",
       "      <td>1</td>\n",
       "      <td>79084.10</td>\n",
       "      <td>0</td>\n",
       "    </tr>\n",
       "  </tbody>\n",
       "</table>\n",
       "</div>"
      ],
      "text/plain": [
       "   RowNumber  CustomerId   Surname  CreditScore Geography  Gender  Age  \\\n",
       "0          1    15634602  Hargrave          619    France  Female   42   \n",
       "1          2    15647311      Hill          608     Spain  Female   41   \n",
       "2          3    15619304      Onio          502    France  Female   42   \n",
       "3          4    15701354      Boni          699    France  Female   39   \n",
       "4          5    15737888  Mitchell          850     Spain  Female   43   \n",
       "\n",
       "   Tenure    Balance  NumOfProducts  HasCrCard  IsActiveMember  \\\n",
       "0       2       0.00              1          1               1   \n",
       "1       1   83807.86              1          0               1   \n",
       "2       8  159660.80              3          1               0   \n",
       "3       1       0.00              2          0               0   \n",
       "4       2  125510.82              1          1               1   \n",
       "\n",
       "   EstimatedSalary  Exited  \n",
       "0        101348.88       1  \n",
       "1        112542.58       0  \n",
       "2        113931.57       1  \n",
       "3         93826.63       0  \n",
       "4         79084.10       0  "
      ]
     },
     "execution_count": 3,
     "metadata": {},
     "output_type": "execute_result"
    }
   ],
   "source": [
    "dataset = pd.read_csv('Churn_Modelling.csv')\n",
    "dataset.head()"
   ]
  },
  {
   "cell_type": "code",
   "execution_count": 4,
   "metadata": {},
   "outputs": [
    {
     "data": {
      "text/plain": [
       "array([[608, 'Spain', 'Female', 41, 1, 83807.86, 1, 0, 1, 112542.58],\n",
       "       [502, 'France', 'Female', 42, 8, 159660.8, 3, 1, 0, 113931.57],\n",
       "       [699, 'France', 'Female', 39, 1, 0.0, 2, 0, 0, 93826.63],\n",
       "       [850, 'Spain', 'Female', 43, 2, 125510.82, 1, 1, 1, 79084.1],\n",
       "       [645, 'Spain', 'Male', 44, 8, 113755.78, 2, 1, 0, 149756.71],\n",
       "       [822, 'France', 'Male', 50, 7, 0.0, 2, 1, 1, 10062.8],\n",
       "       [376, 'Germany', 'Female', 29, 4, 115046.74, 4, 1, 0, 119346.88],\n",
       "       [501, 'France', 'Male', 44, 4, 142051.07, 2, 0, 1, 74940.5],\n",
       "       [684, 'France', 'Male', 27, 2, 134603.88, 1, 1, 1, 71725.73]], dtype=object)"
      ]
     },
     "execution_count": 4,
     "metadata": {},
     "output_type": "execute_result"
    }
   ],
   "source": [
    "X = dataset.iloc[:, 3:13].values\n",
    "X[1:10]"
   ]
  },
  {
   "cell_type": "code",
   "execution_count": 5,
   "metadata": {},
   "outputs": [
    {
     "data": {
      "text/plain": [
       "array([0, 1, 0, 0, 1, 0, 1, 0, 0], dtype=int64)"
      ]
     },
     "execution_count": 5,
     "metadata": {},
     "output_type": "execute_result"
    }
   ],
   "source": [
    "y = dataset.iloc[:, 13].values\n",
    "y[1:10]"
   ]
  },
  {
   "cell_type": "code",
   "execution_count": 6,
   "metadata": {
    "collapsed": true
   },
   "outputs": [],
   "source": [
    "# Encoding categorical data\n",
    "from sklearn.preprocessing import LabelEncoder, OneHotEncoder\n",
    "labelencoder_X_1 = LabelEncoder()\n",
    "X[:, 1] = labelencoder_X_1.fit_transform(X[:, 1])"
   ]
  },
  {
   "cell_type": "code",
   "execution_count": 7,
   "metadata": {},
   "outputs": [
    {
     "data": {
      "text/plain": [
       "array([[608, 2, 'Female', 41, 1, 83807.86, 1, 0, 1, 112542.58],\n",
       "       [502, 0, 'Female', 42, 8, 159660.8, 3, 1, 0, 113931.57],\n",
       "       [699, 0, 'Female', 39, 1, 0.0, 2, 0, 0, 93826.63],\n",
       "       [850, 2, 'Female', 43, 2, 125510.82, 1, 1, 1, 79084.1],\n",
       "       [645, 2, 'Male', 44, 8, 113755.78, 2, 1, 0, 149756.71],\n",
       "       [822, 0, 'Male', 50, 7, 0.0, 2, 1, 1, 10062.8],\n",
       "       [376, 1, 'Female', 29, 4, 115046.74, 4, 1, 0, 119346.88],\n",
       "       [501, 0, 'Male', 44, 4, 142051.07, 2, 0, 1, 74940.5],\n",
       "       [684, 0, 'Male', 27, 2, 134603.88, 1, 1, 1, 71725.73]], dtype=object)"
      ]
     },
     "execution_count": 7,
     "metadata": {},
     "output_type": "execute_result"
    }
   ],
   "source": [
    "X[1:10]"
   ]
  },
  {
   "cell_type": "code",
   "execution_count": 8,
   "metadata": {},
   "outputs": [
    {
     "data": {
      "text/plain": [
       "array([[608, 2, 0, 41, 1, 83807.86, 1, 0, 1, 112542.58],\n",
       "       [502, 0, 0, 42, 8, 159660.8, 3, 1, 0, 113931.57],\n",
       "       [699, 0, 0, 39, 1, 0.0, 2, 0, 0, 93826.63],\n",
       "       [850, 2, 0, 43, 2, 125510.82, 1, 1, 1, 79084.1],\n",
       "       [645, 2, 1, 44, 8, 113755.78, 2, 1, 0, 149756.71],\n",
       "       [822, 0, 1, 50, 7, 0.0, 2, 1, 1, 10062.8],\n",
       "       [376, 1, 0, 29, 4, 115046.74, 4, 1, 0, 119346.88],\n",
       "       [501, 0, 1, 44, 4, 142051.07, 2, 0, 1, 74940.5],\n",
       "       [684, 0, 1, 27, 2, 134603.88, 1, 1, 1, 71725.73]], dtype=object)"
      ]
     },
     "execution_count": 8,
     "metadata": {},
     "output_type": "execute_result"
    }
   ],
   "source": [
    "labelencoder_X_2 = LabelEncoder()\n",
    "X[:, 2] = labelencoder_X_2.fit_transform(X[:, 2])\n",
    "X[1:10]"
   ]
  },
  {
   "cell_type": "code",
   "execution_count": 9,
   "metadata": {
    "collapsed": true
   },
   "outputs": [],
   "source": [
    "onehotencoder = OneHotEncoder(categorical_features = [1])\n",
    "X = onehotencoder.fit_transform(X).toarray()"
   ]
  },
  {
   "cell_type": "code",
   "execution_count": 10,
   "metadata": {},
   "outputs": [],
   "source": [
    "X = X[:, 1:]"
   ]
  },
  {
   "cell_type": "code",
   "execution_count": 11,
   "metadata": {
    "collapsed": true
   },
   "outputs": [],
   "source": [
    "from sklearn.model_selection import train_test_split\n",
    "X_train, X_test, y_train, y_test = train_test_split(X, y, test_size=0.2, random_state=0)"
   ]
  },
  {
   "cell_type": "code",
   "execution_count": 12,
   "metadata": {
    "collapsed": true
   },
   "outputs": [],
   "source": [
    "from sklearn.preprocessing import StandardScaler\n",
    "sc_X = StandardScaler()\n",
    "X_train = sc_X.fit_transform(X_train)\n",
    "X_test = sc_X.transform(X_test)"
   ]
  },
  {
   "cell_type": "code",
   "execution_count": 13,
   "metadata": {},
   "outputs": [
    {
     "data": {
      "text/plain": [
       "(8000, 11)"
      ]
     },
     "execution_count": 13,
     "metadata": {},
     "output_type": "execute_result"
    }
   ],
   "source": [
    "X_train.shape"
   ]
  },
  {
   "cell_type": "markdown",
   "metadata": {},
   "source": [
    "# Part 2 - ANN"
   ]
  },
  {
   "cell_type": "markdown",
   "metadata": {},
   "source": [
    "## Importing the Keras libraries and packages"
   ]
  },
  {
   "cell_type": "code",
   "execution_count": 14,
   "metadata": {},
   "outputs": [
    {
     "name": "stderr",
     "output_type": "stream",
     "text": [
      "Using TensorFlow backend.\n"
     ]
    }
   ],
   "source": [
    "import keras\n",
    "from keras.models import Sequential\n",
    "from keras.layers import Dense"
   ]
  },
  {
   "cell_type": "markdown",
   "metadata": {},
   "source": [
    "## Initialize the Neural Network"
   ]
  },
  {
   "cell_type": "code",
   "execution_count": 15,
   "metadata": {
    "collapsed": true
   },
   "outputs": [],
   "source": [
    "classifier = Sequential()"
   ]
  },
  {
   "cell_type": "code",
   "execution_count": 16,
   "metadata": {
    "collapsed": true
   },
   "outputs": [],
   "source": [
    "# Adding the input layer and the first hidden layer\n",
    "classifier.add(Dense(units=6, kernel_initializer='uniform', activation='relu', input_dim=11))"
   ]
  },
  {
   "cell_type": "code",
   "execution_count": 17,
   "metadata": {
    "collapsed": true
   },
   "outputs": [],
   "source": [
    "# Adding the second hidden layer\n",
    "classifier.add(Dense(units=6, kernel_initializer='uniform', activation='relu'))"
   ]
  },
  {
   "cell_type": "code",
   "execution_count": 18,
   "metadata": {
    "collapsed": true
   },
   "outputs": [],
   "source": [
    "# Adding the output layer\n",
    "classifier.add(Dense(units=1, kernel_initializer='uniform', activation='sigmoid'))"
   ]
  },
  {
   "cell_type": "code",
   "execution_count": 20,
   "metadata": {
    "collapsed": true
   },
   "outputs": [],
   "source": [
    "# Compile the ANN \n",
    "# categorical_cross_entropy for more than one output\n",
    "classifier.compile(optimizer='adam',loss='binary_crossentropy', metrics=['accuracy'])"
   ]
  },
  {
   "cell_type": "code",
   "execution_count": 21,
   "metadata": {
    "scrolled": true
   },
   "outputs": [
    {
     "name": "stdout",
     "output_type": "stream",
     "text": [
      "Epoch 1/100\n",
      "8000/8000 [==============================] - 27s 3ms/step - loss: 0.4946 - acc: 0.7953\n",
      "Epoch 2/100\n",
      "8000/8000 [==============================] - 5s 613us/step - loss: 0.4289 - acc: 0.7960\n",
      "Epoch 3/100\n",
      "8000/8000 [==============================] - 5s 618us/step - loss: 0.4238 - acc: 0.7960\n",
      "Epoch 4/100\n",
      "8000/8000 [==============================] - 5s 665us/step - loss: 0.4203 - acc: 0.8033\n",
      "Epoch 5/100\n",
      "8000/8000 [==============================] - 6s 719us/step - loss: 0.4174 - acc: 0.8238\n",
      "Epoch 6/100\n",
      "8000/8000 [==============================] - 7s 842us/step - loss: 0.4155 - acc: 0.8264\n",
      "Epoch 7/100\n",
      "8000/8000 [==============================] - 6s 810us/step - loss: 0.4136 - acc: 0.8295\n",
      "Epoch 8/100\n",
      "8000/8000 [==============================] - 7s 854us/step - loss: 0.4125 - acc: 0.8334\n",
      "Epoch 9/100\n",
      "8000/8000 [==============================] - 6s 695us/step - loss: 0.4114 - acc: 0.8331\n",
      "Epoch 10/100\n",
      "8000/8000 [==============================] - 6s 771us/step - loss: 0.4104 - acc: 0.8329\n",
      "Epoch 11/100\n",
      "8000/8000 [==============================] - 5s 670us/step - loss: 0.4095 - acc: 0.8339\n",
      "Epoch 12/100\n",
      "8000/8000 [==============================] - 6s 729us/step - loss: 0.4084 - acc: 0.8335\n",
      "Epoch 13/100\n",
      "8000/8000 [==============================] - 7s 830us/step - loss: 0.4074 - acc: 0.8336\n",
      "Epoch 14/100\n",
      "8000/8000 [==============================] - 6s 790us/step - loss: 0.4072 - acc: 0.8341\n",
      "Epoch 15/100\n",
      "8000/8000 [==============================] - 8s 995us/step - loss: 0.4065 - acc: 0.8336\n",
      "Epoch 16/100\n",
      "8000/8000 [==============================] - 7s 848us/step - loss: 0.4061 - acc: 0.8353\n",
      "Epoch 17/100\n",
      "8000/8000 [==============================] - 7s 873us/step - loss: 0.4053 - acc: 0.8341\n",
      "Epoch 18/100\n",
      "8000/8000 [==============================] - 11s 1ms/step - loss: 0.4050 - acc: 0.8341\n",
      "Epoch 19/100\n",
      "8000/8000 [==============================] - 5s 639us/step - loss: 0.4048 - acc: 0.8351\n",
      "Epoch 20/100\n",
      "8000/8000 [==============================] - 5s 646us/step - loss: 0.4046 - acc: 0.8350\n",
      "Epoch 21/100\n",
      "8000/8000 [==============================] - 6s 787us/step - loss: 0.4040 - acc: 0.8355\n",
      "Epoch 22/100\n",
      "8000/8000 [==============================] - 7s 814us/step - loss: 0.4041 - acc: 0.8340\n",
      "Epoch 23/100\n",
      "8000/8000 [==============================] - 6s 744us/step - loss: 0.4037 - acc: 0.8346\n",
      "Epoch 24/100\n",
      "8000/8000 [==============================] - 7s 834us/step - loss: 0.4037 - acc: 0.8359\n",
      "Epoch 25/100\n",
      "8000/8000 [==============================] - 6s 719us/step - loss: 0.4035 - acc: 0.8349\n",
      "Epoch 26/100\n",
      "8000/8000 [==============================] - 8s 950us/step - loss: 0.4031 - acc: 0.8360\n",
      "Epoch 27/100\n",
      "8000/8000 [==============================] - 7s 843us/step - loss: 0.4027 - acc: 0.8360 0s - loss: 0.4037\n",
      "Epoch 28/100\n",
      "8000/8000 [==============================] - 7s 829us/step - loss: 0.4024 - acc: 0.8343\n",
      "Epoch 29/100\n",
      "8000/8000 [==============================] - 6s 688us/step - loss: 0.4027 - acc: 0.8343\n",
      "Epoch 30/100\n",
      "8000/8000 [==============================] - 5s 616us/step - loss: 0.4026 - acc: 0.8349\n",
      "Epoch 31/100\n",
      "8000/8000 [==============================] - 5s 661us/step - loss: 0.4024 - acc: 0.8360\n",
      "Epoch 32/100\n",
      "8000/8000 [==============================] - 9s 1ms/step - loss: 0.4024 - acc: 0.8344\n",
      "Epoch 33/100\n",
      "8000/8000 [==============================] - 7s 816us/step - loss: 0.4019 - acc: 0.8346\n",
      "Epoch 34/100\n",
      "8000/8000 [==============================] - 6s 741us/step - loss: 0.4020 - acc: 0.8354\n",
      "Epoch 35/100\n",
      "8000/8000 [==============================] - 8s 987us/step - loss: 0.4020 - acc: 0.8361\n",
      "Epoch 36/100\n",
      "8000/8000 [==============================] - 11s 1ms/step - loss: 0.4018 - acc: 0.8350\n",
      "Epoch 37/100\n",
      "8000/8000 [==============================] - 10s 1ms/step - loss: 0.4020 - acc: 0.8345\n",
      "Epoch 38/100\n",
      "8000/8000 [==============================] - 7s 921us/step - loss: 0.4014 - acc: 0.8355\n",
      "Epoch 39/100\n",
      "8000/8000 [==============================] - 9s 1ms/step - loss: 0.4014 - acc: 0.8350\n",
      "Epoch 40/100\n",
      "8000/8000 [==============================] - 7s 828us/step - loss: 0.4012 - acc: 0.8343\n",
      "Epoch 41/100\n",
      "8000/8000 [==============================] - 11s 1ms/step - loss: 0.4011 - acc: 0.8339\n",
      "Epoch 42/100\n",
      "8000/8000 [==============================] - 6s 716us/step - loss: 0.4014 - acc: 0.8343\n",
      "Epoch 43/100\n",
      "8000/8000 [==============================] - 5s 623us/step - loss: 0.4008 - acc: 0.8353\n",
      "Epoch 44/100\n",
      "8000/8000 [==============================] - 6s 724us/step - loss: 0.4008 - acc: 0.8348\n",
      "Epoch 45/100\n",
      "8000/8000 [==============================] - 7s 877us/step - loss: 0.4012 - acc: 0.8348\n",
      "Epoch 46/100\n",
      "8000/8000 [==============================] - 7s 889us/step - loss: 0.4006 - acc: 0.8353\n",
      "Epoch 47/100\n",
      "8000/8000 [==============================] - 6s 771us/step - loss: 0.4013 - acc: 0.8348\n",
      "Epoch 48/100\n",
      "8000/8000 [==============================] - 6s 754us/step - loss: 0.4006 - acc: 0.8346\n",
      "Epoch 49/100\n",
      "8000/8000 [==============================] - 7s 835us/step - loss: 0.4007 - acc: 0.8339\n",
      "Epoch 50/100\n",
      "8000/8000 [==============================] - 6s 803us/step - loss: 0.4010 - acc: 0.8358\n",
      "Epoch 51/100\n",
      "8000/8000 [==============================] - 6s 715us/step - loss: 0.4005 - acc: 0.8350\n",
      "Epoch 52/100\n",
      "8000/8000 [==============================] - 5s 631us/step - loss: 0.4008 - acc: 0.8353\n",
      "Epoch 53/100\n",
      "8000/8000 [==============================] - 5s 672us/step - loss: 0.4009 - acc: 0.8361\n",
      "Epoch 54/100\n",
      "8000/8000 [==============================] - 5s 634us/step - loss: 0.4005 - acc: 0.8354\n",
      "Epoch 55/100\n",
      "8000/8000 [==============================] - 5s 670us/step - loss: 0.4003 - acc: 0.8351\n",
      "Epoch 56/100\n",
      "8000/8000 [==============================] - 5s 637us/step - loss: 0.4006 - acc: 0.8346\n",
      "Epoch 57/100\n",
      "8000/8000 [==============================] - 6s 691us/step - loss: 0.4003 - acc: 0.8339\n",
      "Epoch 58/100\n",
      "8000/8000 [==============================] - 6s 692us/step - loss: 0.4003 - acc: 0.8349\n",
      "Epoch 59/100\n",
      "8000/8000 [==============================] - 5s 679us/step - loss: 0.4005 - acc: 0.8345\n",
      "Epoch 60/100\n",
      "8000/8000 [==============================] - 5s 637us/step - loss: 0.4004 - acc: 0.8364\n",
      "Epoch 61/100\n",
      "8000/8000 [==============================] - 5s 657us/step - loss: 0.4000 - acc: 0.8336\n",
      "Epoch 62/100\n",
      "8000/8000 [==============================] - 5s 652us/step - loss: 0.4005 - acc: 0.8353\n",
      "Epoch 63/100\n",
      "8000/8000 [==============================] - 5s 651us/step - loss: 0.4005 - acc: 0.8365\n",
      "Epoch 64/100\n",
      "8000/8000 [==============================] - 5s 655us/step - loss: 0.4001 - acc: 0.8355\n",
      "Epoch 65/100\n",
      "8000/8000 [==============================] - 5s 642us/step - loss: 0.4001 - acc: 0.8348\n",
      "Epoch 66/100\n",
      "8000/8000 [==============================] - 5s 657us/step - loss: 0.4000 - acc: 0.8358\n",
      "Epoch 67/100\n",
      "8000/8000 [==============================] - 5s 669us/step - loss: 0.4002 - acc: 0.8356\n",
      "Epoch 68/100\n",
      "8000/8000 [==============================] - 6s 697us/step - loss: 0.4001 - acc: 0.8343\n",
      "Epoch 69/100\n",
      "8000/8000 [==============================] - 6s 689us/step - loss: 0.4000 - acc: 0.8343\n",
      "Epoch 70/100\n",
      "8000/8000 [==============================] - 6s 796us/step - loss: 0.4001 - acc: 0.8360\n",
      "Epoch 71/100\n",
      "8000/8000 [==============================] - 7s 815us/step - loss: 0.4000 - acc: 0.8351\n",
      "Epoch 72/100\n",
      "8000/8000 [==============================] - 6s 698us/step - loss: 0.4001 - acc: 0.8349\n",
      "Epoch 73/100\n",
      "8000/8000 [==============================] - 5s 657us/step - loss: 0.4001 - acc: 0.8349\n",
      "Epoch 74/100\n",
      "8000/8000 [==============================] - 5s 659us/step - loss: 0.3998 - acc: 0.8350\n",
      "Epoch 75/100\n",
      "8000/8000 [==============================] - 5s 657us/step - loss: 0.4000 - acc: 0.8350\n",
      "Epoch 76/100\n",
      "8000/8000 [==============================] - 5s 656us/step - loss: 0.4000 - acc: 0.8344\n",
      "Epoch 77/100\n",
      "8000/8000 [==============================] - 5s 641us/step - loss: 0.3997 - acc: 0.8348\n",
      "Epoch 78/100\n",
      "8000/8000 [==============================] - 6s 738us/step - loss: 0.4002 - acc: 0.8346\n",
      "Epoch 79/100\n",
      "8000/8000 [==============================] - 6s 729us/step - loss: 0.3994 - acc: 0.8369\n",
      "Epoch 80/100\n",
      "8000/8000 [==============================] - 6s 695us/step - loss: 0.3996 - acc: 0.8348\n",
      "Epoch 81/100\n",
      "8000/8000 [==============================] - 5s 656us/step - loss: 0.3997 - acc: 0.8350\n",
      "Epoch 82/100\n"
     ]
    },
    {
     "name": "stdout",
     "output_type": "stream",
     "text": [
      "8000/8000 [==============================] - 5s 672us/step - loss: 0.4001 - acc: 0.8349\n",
      "Epoch 83/100\n",
      "8000/8000 [==============================] - 5s 671us/step - loss: 0.4003 - acc: 0.8333\n",
      "Epoch 84/100\n",
      "8000/8000 [==============================] - 5s 658us/step - loss: 0.3998 - acc: 0.8343\n",
      "Epoch 85/100\n",
      "8000/8000 [==============================] - 5s 655us/step - loss: 0.3998 - acc: 0.8355\n",
      "Epoch 86/100\n",
      "8000/8000 [==============================] - 5s 682us/step - loss: 0.4000 - acc: 0.8323\n",
      "Epoch 87/100\n",
      "8000/8000 [==============================] - 5s 662us/step - loss: 0.3996 - acc: 0.8356\n",
      "Epoch 88/100\n",
      "8000/8000 [==============================] - 5s 671us/step - loss: 0.3999 - acc: 0.8356\n",
      "Epoch 89/100\n",
      "8000/8000 [==============================] - 6s 714us/step - loss: 0.4000 - acc: 0.8340\n",
      "Epoch 90/100\n",
      "8000/8000 [==============================] - 5s 686us/step - loss: 0.3997 - acc: 0.8345\n",
      "Epoch 91/100\n",
      "8000/8000 [==============================] - 5s 631us/step - loss: 0.3998 - acc: 0.8346\n",
      "Epoch 92/100\n",
      "8000/8000 [==============================] - 5s 687us/step - loss: 0.4001 - acc: 0.8350\n",
      "Epoch 93/100\n",
      "8000/8000 [==============================] - 5s 635us/step - loss: 0.3999 - acc: 0.8349\n",
      "Epoch 94/100\n",
      "8000/8000 [==============================] - 5s 648us/step - loss: 0.3998 - acc: 0.8350\n",
      "Epoch 95/100\n",
      "8000/8000 [==============================] - 5s 667us/step - loss: 0.3998 - acc: 0.8346\n",
      "Epoch 96/100\n",
      "8000/8000 [==============================] - 5s 635us/step - loss: 0.3999 - acc: 0.8346\n",
      "Epoch 97/100\n",
      "8000/8000 [==============================] - 5s 636us/step - loss: 0.3997 - acc: 0.8360\n",
      "Epoch 98/100\n",
      "8000/8000 [==============================] - 5s 654us/step - loss: 0.3999 - acc: 0.8350\n",
      "Epoch 99/100\n",
      "8000/8000 [==============================] - 6s 692us/step - loss: 0.3997 - acc: 0.8350\n",
      "Epoch 100/100\n",
      "8000/8000 [==============================] - 5s 642us/step - loss: 0.3999 - acc: 0.8348\n"
     ]
    },
    {
     "data": {
      "text/plain": [
       "<keras.callbacks.History at 0x204b202cb00>"
      ]
     },
     "execution_count": 21,
     "metadata": {},
     "output_type": "execute_result"
    }
   ],
   "source": [
    "# Fitting the ANN to the Training set\n",
    "classifier.fit(x=X_train, y=y_train, batch_size=10, epochs=100)"
   ]
  },
  {
   "cell_type": "code",
   "execution_count": 19,
   "metadata": {
    "collapsed": true
   },
   "outputs": [],
   "source": [
    "# Part 3 - Making the predictions"
   ]
  },
  {
   "cell_type": "code",
   "execution_count": 24,
   "metadata": {},
   "outputs": [
    {
     "data": {
      "text/plain": [
       "array([[False],\n",
       "       [False],\n",
       "       [False],\n",
       "       ..., \n",
       "       [False],\n",
       "       [False],\n",
       "       [False]], dtype=bool)"
      ]
     },
     "execution_count": 24,
     "metadata": {},
     "output_type": "execute_result"
    }
   ],
   "source": [
    "y_pred = classifier.predict(X_test)\n",
    "y_pred = (y_pred > 0.5)\n",
    "y_pred"
   ]
  },
  {
   "cell_type": "code",
   "execution_count": 25,
   "metadata": {},
   "outputs": [
    {
     "data": {
      "text/plain": [
       "array([[1546,   49],\n",
       "       [ 268,  137]], dtype=int64)"
      ]
     },
     "execution_count": 25,
     "metadata": {},
     "output_type": "execute_result"
    }
   ],
   "source": [
    "from sklearn.metrics import confusion_matrix\n",
    "cm = confusion_matrix(y_test, y_pred)\n",
    "cm"
   ]
  },
  {
   "cell_type": "code",
   "execution_count": 26,
   "metadata": {
    "collapsed": true
   },
   "outputs": [],
   "source": [
    "from sklearn.metrics import classification_report"
   ]
  },
  {
   "cell_type": "code",
   "execution_count": 29,
   "metadata": {},
   "outputs": [
    {
     "name": "stdout",
     "output_type": "stream",
     "text": [
      "             precision    recall  f1-score   support\n",
      "\n",
      "          0       0.85      0.97      0.91      1595\n",
      "          1       0.74      0.34      0.46       405\n",
      "\n",
      "avg / total       0.83      0.84      0.82      2000\n",
      "\n"
     ]
    }
   ],
   "source": [
    "print(classification_report(y_test, y_pred))"
   ]
  },
  {
   "cell_type": "code",
   "execution_count": null,
   "metadata": {
    "collapsed": true
   },
   "outputs": [],
   "source": []
  }
 ],
 "metadata": {
  "kernelspec": {
   "display_name": "Python 3",
   "language": "python",
   "name": "python3"
  },
  "language_info": {
   "codemirror_mode": {
    "name": "ipython",
    "version": 3
   },
   "file_extension": ".py",
   "mimetype": "text/x-python",
   "name": "python",
   "nbconvert_exporter": "python",
   "pygments_lexer": "ipython3",
   "version": "3.5.4"
  }
 },
 "nbformat": 4,
 "nbformat_minor": 2
}
